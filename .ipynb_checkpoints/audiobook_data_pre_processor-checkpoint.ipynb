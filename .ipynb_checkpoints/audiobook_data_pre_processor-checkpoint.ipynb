{
 "cells": [
  {
   "cell_type": "code",
   "execution_count": 20,
   "metadata": {},
   "outputs": [],
   "source": [
    "import numpy as np\n",
    "from sklearn import preprocessing"
   ]
  },
  {
   "cell_type": "code",
   "execution_count": 21,
   "metadata": {},
   "outputs": [],
   "source": [
    "raw_data = np.loadtxt('Audiobooks_data.csv',delimiter=',')\n",
    "\n",
    "unscaled_input_data = raw_data[:,1:11]\n",
    "unscaled_target_data = raw_data[:,-1]"
   ]
  },
  {
   "cell_type": "code",
   "execution_count": 19,
   "metadata": {},
   "outputs": [],
   "source": [
    "##balancing the data\n",
    "total_number_of_samples = len(unscaled_input_data)\n",
    "number_of_target_one = float(np.sum(unscaled_target_data))\n",
    "number_of_target_zero = 0\n",
    "indices_to_remove = []\n",
    "\n",
    "for i in range(total_number_of_samples):\n",
    "    if(unscaled_target_data[i] == 0):\n",
    "        number_of_target_zero +=1\n",
    "        if(number_of_target_zero > number_of_target_one):\n",
    "            indices_to_remove.append(i)\n",
    "\n",
    "unscaled_inputs_equal_priors = np.delete(unscaled_input_data,indices_to_remove,axis=0)\n",
    "unscaled_targets_equal_priors = np.delete(unscaled_target_data,indices_to_remove,axis=0)"
   ]
  },
  {
   "cell_type": "code",
   "execution_count": 23,
   "metadata": {},
   "outputs": [],
   "source": [
    "# Scalling the inputs and targets\n",
    "scaled_inputs = preprocessing.scale(unscaled_inputs_equal_priors)"
   ]
  },
  {
   "cell_type": "code",
   "execution_count": 30,
   "metadata": {},
   "outputs": [],
   "source": [
    "shuffeled_indices = np.arange(scaled_inputs.shape[0])\n",
    "np.random.shuffle(shuffeled_indices)\n",
    "\n",
    "shuffeled_inputs = scaled_inputs[shuffeled_indices]\n",
    "shuffeled_targets = unscaled_targets_equal_priors[shuffeled_indices]"
   ]
  },
  {
   "cell_type": "code",
   "execution_count": 39,
   "metadata": {},
   "outputs": [],
   "source": [
    "# deviding the dataset in the as split train and test\n",
    "TRAIN_SIZE = int(0.8 * len(shuffeled_inputs))\n",
    "VALIDATION_SIZE = int(0.1 * len(shuffeled_inputs))\n",
    "TEST_SIZE= len(shuffeled_inputs) - TRAIN_SIZE - VALIDATION_SIZE\n",
    "\n",
    "train_input = shuffeled_inputs[:TRAIN_SIZE]\n",
    "train_targets = shuffeled_targets[:TRAIN_SIZE]\n",
    "\n",
    "validation_inputs= shuffeled_inputs[TRAIN_SIZE:TRAIN_SIZE+VALIDATION_SIZE]\n",
    "validation_targets= shuffeled_targets[TRAIN_SIZE:TRAIN_SIZE+VALIDATION_SIZE]\n",
    "\n",
    "test_inputs = shuffeled_inputs[TRAIN_SIZE+VALIDATION_SIZE:]\n",
    "test_targets = shuffeled_targets[TRAIN_SIZE+VALIDATION_SIZE:]"
   ]
  },
  {
   "cell_type": "code",
   "execution_count": 40,
   "metadata": {},
   "outputs": [],
   "source": [
    "## saving the file in npz format\n",
    "np.savez(\"AudioBook_train_data\",inputs = train_input,targets=train_targets)\n",
    "np.savez(\"AudioBook_validation_data\",inputs = validation_inputs,targeta=validation_targets)\n",
    "np.savez(\"AudioBook_test_data\",inputs = test_inputs,targets=test_targets)"
   ]
  },
  {
   "cell_type": "code",
   "execution_count": null,
   "metadata": {},
   "outputs": [],
   "source": []
  }
 ],
 "metadata": {
  "kernelspec": {
   "display_name": "Python [conda env:tensor] *",
   "language": "python",
   "name": "conda-env-tensor-py"
  },
  "language_info": {
   "codemirror_mode": {
    "name": "ipython",
    "version": 3
   },
   "file_extension": ".py",
   "mimetype": "text/x-python",
   "name": "python",
   "nbconvert_exporter": "python",
   "pygments_lexer": "ipython3",
   "version": "3.6.9"
  }
 },
 "nbformat": 4,
 "nbformat_minor": 2
}
