{
 "cells": [
  {
   "cell_type": "code",
   "execution_count": 2,
   "metadata": {},
   "outputs": [],
   "source": [
    "import numpy as np\n",
    "import tensorflow as tf\n"
   ]
  },
  {
   "cell_type": "code",
   "execution_count": 18,
   "metadata": {},
   "outputs": [],
   "source": [
    "npz = np.load('AudioBook_train_data.npz')\n",
    "\n",
    "train_input = npz['inputs'].astype(np.float)\n",
    "train_target= npz['targets'].astype(np.float)\n",
    "\n",
    "npz = np.load('AudioBook_validation_data.npz')\n",
    "\n",
    "validation_input = npz['inputs'].astype(np.float)\n",
    "validation_target= npz['targets'].astype(np.float)\n",
    "\n",
    "npz = np.load('AudioBook_test_data.npz')\n",
    "\n",
    "test_input = npz['inputs'].astype(np.float)\n",
    "test_target= npz['targets'].astype(np.float)\n"
   ]
  },
  {
   "cell_type": "code",
   "execution_count": 30,
   "metadata": {},
   "outputs": [
    {
     "data": {
      "text/plain": [
       "<tensorflow.python.keras.callbacks.History at 0x1e5468c0ef0>"
      ]
     },
     "execution_count": 30,
     "metadata": {},
     "output_type": "execute_result"
    }
   ],
   "source": [
    "# buildin the model\n",
    "input_size = 10\n",
    "output_size = 2\n",
    "hidden_layer_size = 100\n",
    "activation_function = 'elu'\n",
    "model = tf.keras.Sequential(layers=[\n",
    "        tf.keras.layers.Dense(hidden_layer_size,activation=activation_function),\n",
    "        tf.keras.layers.Dense(hidden_layer_size,activation=activation_function),        \n",
    "        tf.keras.layers.Dense(hidden_layer_size,activation=activation_function),\n",
    "        tf.keras.layers.Dense(hidden_layer_size,activation=activation_function),        \n",
    "        tf.keras.layers.Dense(hidden_layer_size,activation=activation_function),\n",
    "        tf.keras.layers.Dense(hidden_layer_size,activation=activation_function),\n",
    "        tf.keras.layers.Dense(hidden_layer_size,activation=activation_function),\n",
    "\n",
    "        tf.keras.layers.Dense(output_size,activation='softmax'),\n",
    "])\n",
    "\n",
    "batch_size = 50\n",
    "max_epochs = 100\n",
    "callbacks = tf.keras.callbacks.EarlyStopping(patience=4)\n",
    "model.compile(optimizer ='adam',loss='sparse_categorical_crossentropy',metrics=['accuracy'])\n",
    "\n",
    "model.fit(train_input,\n",
    "          train_target,\n",
    "          batch_size = batch_size,\n",
    "          epochs = max_epochs,\n",
    "          callbacks =[callbacks],\n",
    "          validation_data=(validation_input,validation_target),\n",
    "          verbose=0)"
   ]
  },
  {
   "cell_type": "code",
   "execution_count": 29,
   "metadata": {},
   "outputs": [
    {
     "name": "stdout",
     "output_type": "stream",
     "text": [
      "Total Loss =  0.19469390915972845  Total Accuracy :  0.9375\n"
     ]
    }
   ],
   "source": [
    "## testing the data\n",
    "total_loss,total_accuracy = model.evaluate(test_input,test_target,verbose=0)\n",
    "print(\"Total Loss = \",total_loss,\" Total Accuracy : \",total_accuracy)"
   ]
  },
  {
   "cell_type": "code",
   "execution_count": null,
   "metadata": {},
   "outputs": [],
   "source": []
  }
 ],
 "metadata": {
  "kernelspec": {
   "display_name": "Python [conda env:tensor] *",
   "language": "python",
   "name": "conda-env-tensor-py"
  },
  "language_info": {
   "codemirror_mode": {
    "name": "ipython",
    "version": 3
   },
   "file_extension": ".py",
   "mimetype": "text/x-python",
   "name": "python",
   "nbconvert_exporter": "python",
   "pygments_lexer": "ipython3",
   "version": "3.6.9"
  }
 },
 "nbformat": 4,
 "nbformat_minor": 2
}
